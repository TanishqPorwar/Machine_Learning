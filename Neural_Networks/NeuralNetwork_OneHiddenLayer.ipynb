{
 "cells": [
  {
   "cell_type": "code",
   "execution_count": 13,
   "metadata": {},
   "outputs": [],
   "source": [
    "import numpy as np"
   ]
  },
  {
   "cell_type": "code",
   "execution_count": 19,
   "metadata": {},
   "outputs": [
    {
     "data": {
      "text/plain": [
       "((4, 2), (4, 1))"
      ]
     },
     "execution_count": 19,
     "metadata": {},
     "output_type": "execute_result"
    }
   ],
   "source": [
    "X = np.array([[0,0],[0,1],[1,0],[1,1]])\n",
    "Y= np.array([[0,1,1,0]]).T\n",
    "X.shape,Y.shape"
   ]
  },
  {
   "cell_type": "code",
   "execution_count": 20,
   "metadata": {},
   "outputs": [],
   "source": [
    "def sig(z):\n",
    "    return 1/(1+np.exp(-z))"
   ]
  },
  {
   "cell_type": "code",
   "execution_count": 21,
   "metadata": {},
   "outputs": [],
   "source": [
    "def derivativeSig(z):\n",
    "    return sig(z)*(1-sig(z))"
   ]
  },
  {
   "cell_type": "code",
   "execution_count": 24,
   "metadata": {},
   "outputs": [],
   "source": [
    "wh =  2*np.random.random((2,2))-1\n",
    "bh =  2*np.random.random((1,2))-1\n",
    "wo =  2*np.random.random((2,1))-1\n",
    "bo =  2*np.random.random((1,1))-1\n",
    "lr = 0.01"
   ]
  },
  {
   "cell_type": "code",
   "execution_count": null,
   "metadata": {},
   "outputs": [],
   "source": []
  },
  {
   "cell_type": "code",
   "execution_count": 27,
   "metadata": {},
   "outputs": [
    {
     "data": {
      "text/plain": [
       "array([[0.5       ],\n",
       "       [0.50954011],\n",
       "       [0.5       ],\n",
       "       [0.5       ]])"
      ]
     },
     "execution_count": 27,
     "metadata": {},
     "output_type": "execute_result"
    }
   ],
   "source": [
    "for iter in range(10000):\n",
    "    output0 = X\n",
    "    input_hidden = np.dot(output0,wh)+bh\n",
    "    output_hidden = sig(input_hidden)\n",
    "    inputForOutput = sig(np.dot(output_hidden,wo)+bo)\n",
    "    output = sig(inputForOutput)\n",
    "\n",
    "    first_term_output_layer = output - Y\n",
    "    second_term_output_layer = derivativeSig(inputForOutput)\n",
    "    first_two_output_layer = first_term_output_layer * second_term_output_layer\n",
    "\n",
    "    first_term_hidden_layer = np.dot(first_two_output_layer,wo.T)\n",
    "    second_term_hidden_layer = derivativeSig(input_hidden)\n",
    "    first_two_hidden_layer = first_term_hidden_layer * second_term_hidden_layer\n",
    "\n",
    "    changes_output_layer = np.dot(output_hidden.T , first_two_output_layer)\n",
    "    changes_output_bias = np.sum(first_two_output_layer ,axis=0, keepdims=True)\n",
    "\n",
    "    changes_hidden = np.dot(output0.T , first_two_hidden_layer)\n",
    "    changes_hidden_bias = np.sum(first_two_hidden_layer ,axis=0, keepdims=True)\n",
    "\n",
    "    wo = wo-lr*changes_output_layer\n",
    "    bo = bo-lr*changes_output_bias\n",
    "\n",
    "    wh = wh-lr*changes_hidden\n",
    "    bh = bh-lr*changes_hidden_bias\n",
    "output0 = X\n",
    "input_hidden = np.dot(output0,wh)+bh\n",
    "output_hidden = sig(input_hidden)\n",
    "inputForOutput = sig(np.dot(output_hidden,wo)+bo)\n",
    "output = sig(inputForOutput)\n",
    "output"
   ]
  },
  {
   "cell_type": "code",
   "execution_count": null,
   "metadata": {},
   "outputs": [],
   "source": []
  },
  {
   "cell_type": "code",
   "execution_count": null,
   "metadata": {},
   "outputs": [],
   "source": []
  }
 ],
 "metadata": {
  "kernelspec": {
   "display_name": "Python 3",
   "language": "python",
   "name": "python3"
  },
  "language_info": {
   "codemirror_mode": {
    "name": "ipython",
    "version": 3
   },
   "file_extension": ".py",
   "mimetype": "text/x-python",
   "name": "python",
   "nbconvert_exporter": "python",
   "pygments_lexer": "ipython3",
   "version": "3.7.3"
  }
 },
 "nbformat": 4,
 "nbformat_minor": 2
}
