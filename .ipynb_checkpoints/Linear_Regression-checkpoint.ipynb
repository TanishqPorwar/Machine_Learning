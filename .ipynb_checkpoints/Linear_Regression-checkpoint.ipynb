{
 "cells": [
  {
   "cell_type": "code",
   "execution_count": 9,
   "metadata": {},
   "outputs": [],
   "source": [
    "import numpy as np\n",
    "\n",
    "def fit(x,y):\n",
    "    m= ( (x*y).mean() - (x.mean()*y.mean()) )/((x*x).mean() - (x.mean()**2))\n",
    "    c= y.mean() - m*(x.mean())\n",
    "    return (m,c)\n",
    "\n",
    "def predict(x,m,c):\n",
    "    y_pred = m*x + c\n",
    "    return y_pred\n",
    "\n",
    "def Coef_det(yp,yt):\n",
    "    u= ((yt-yp)**2).sum()\n",
    "    v=((yt-yt.mean())**2).sum()\n",
    "    return (1-(u/v))\n",
    "\n",
    "def cost(x,y,m,c):\n",
    "    #cst=((y - m*x + c)**2).sum() \n",
    "    cst=((y - m*x + c)**2).mean() #as we divide by N\n",
    "    return cst"
   ]
  },
  {
   "cell_type": "code",
   "execution_count": null,
   "metadata": {},
   "outputs": [],
   "source": []
  }
 ],
 "metadata": {
  "kernelspec": {
   "display_name": "Python 3",
   "language": "python",
   "name": "python3"
  },
  "language_info": {
   "codemirror_mode": {
    "name": "ipython",
    "version": 3
   },
   "file_extension": ".py",
   "mimetype": "text/x-python",
   "name": "python",
   "nbconvert_exporter": "python",
   "pygments_lexer": "ipython3",
   "version": "3.7.3"
  }
 },
 "nbformat": 4,
 "nbformat_minor": 2
}
