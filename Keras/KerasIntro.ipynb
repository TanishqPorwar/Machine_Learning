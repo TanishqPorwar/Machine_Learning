{
 "cells": [
  {
   "cell_type": "code",
   "execution_count": 1,
   "metadata": {},
   "outputs": [
    {
     "name": "stderr",
     "output_type": "stream",
     "text": [
      "Using TensorFlow backend.\n"
     ]
    }
   ],
   "source": [
    "from keras.models import Sequential\n",
    "from keras.layers import Dense"
   ]
  },
  {
   "cell_type": "code",
   "execution_count": 2,
   "metadata": {},
   "outputs": [],
   "source": [
    " # Crewating a model\n",
    "model =Sequential()"
   ]
  },
  {
   "cell_type": "code",
   "execution_count": 3,
   "metadata": {},
   "outputs": [
    {
     "name": "stdout",
     "output_type": "stream",
     "text": [
      "WARNING:tensorflow:From C:\\ProgramData\\Anaconda3\\lib\\site-packages\\tensorflow\\python\\framework\\op_def_library.py:263: colocate_with (from tensorflow.python.framework.ops) is deprecated and will be removed in a future version.\n",
      "Instructions for updating:\n",
      "Colocations handled automatically by placer.\n"
     ]
    }
   ],
   "source": [
    "layer1 = Dense(units=32,activation = 'relu',input_dim=30 )\n",
    "model.add(layer1)\n",
    "model.add(Dense(units=32,activation = 'relu'))\n",
    "model.add(Dense(units=1,activation='sigmoid'))"
   ]
  },
  {
   "cell_type": "code",
   "execution_count": 4,
   "metadata": {},
   "outputs": [],
   "source": [
    "model .compile(optimizer='adam', loss='binary_crossentropy', metrics=['accuracy'])"
   ]
  },
  {
   "cell_type": "code",
   "execution_count": 5,
   "metadata": {},
   "outputs": [],
   "source": [
    "from sklearn import datasets\n",
    "cancer = datasets.load_breast_cancer()\n",
    "from sklearn.model_selection import train_test_split\n",
    "\n",
    "x_train,x_test,y_train,y_test = train_test_split(cancer.data,cancer.target,test_size = 0.2, random_state =0)\n",
    "\n",
    "from sklearn.preprocessing import StandardScaler\n",
    "\n",
    "sc = StandardScaler()\n",
    "x_train = sc.fit_transform(x_train)\n",
    "x_test = sc.transform(x_test)"
   ]
  },
  {
   "cell_type": "code",
   "execution_count": 6,
   "metadata": {},
   "outputs": [
    {
     "name": "stdout",
     "output_type": "stream",
     "text": [
      "WARNING:tensorflow:From C:\\ProgramData\\Anaconda3\\lib\\site-packages\\tensorflow\\python\\ops\\math_ops.py:3066: to_int32 (from tensorflow.python.ops.math_ops) is deprecated and will be removed in a future version.\n",
      "Instructions for updating:\n",
      "Use tf.cast instead.\n",
      "Train on 455 samples, validate on 114 samples\n",
      "Epoch 1/20\n",
      "455/455 [==============================] - 0s 690us/step - loss: 0.5305 - acc: 0.8396 - val_loss: 0.4212 - val_acc: 0.9123\n",
      "Epoch 2/20\n",
      "455/455 [==============================] - 0s 28us/step - loss: 0.3729 - acc: 0.9407 - val_loss: 0.3131 - val_acc: 0.9211\n",
      "Epoch 3/20\n",
      "455/455 [==============================] - 0s 35us/step - loss: 0.2741 - acc: 0.9560 - val_loss: 0.2476 - val_acc: 0.9123\n",
      "Epoch 4/20\n",
      "455/455 [==============================] - 0s 37us/step - loss: 0.2123 - acc: 0.9560 - val_loss: 0.2079 - val_acc: 0.9211\n",
      "Epoch 5/20\n",
      "455/455 [==============================] - 0s 33us/step - loss: 0.1720 - acc: 0.9648 - val_loss: 0.1834 - val_acc: 0.9298\n",
      "Epoch 6/20\n",
      "455/455 [==============================] - 0s 35us/step - loss: 0.1455 - acc: 0.9692 - val_loss: 0.1679 - val_acc: 0.9298\n",
      "Epoch 7/20\n",
      "455/455 [==============================] - 0s 35us/step - loss: 0.1271 - acc: 0.9692 - val_loss: 0.1548 - val_acc: 0.9298\n",
      "Epoch 8/20\n",
      "455/455 [==============================] - 0s 31us/step - loss: 0.1130 - acc: 0.9714 - val_loss: 0.1446 - val_acc: 0.9474\n",
      "Epoch 9/20\n",
      "455/455 [==============================] - 0s 33us/step - loss: 0.1026 - acc: 0.9802 - val_loss: 0.1339 - val_acc: 0.9561\n",
      "Epoch 10/20\n",
      "455/455 [==============================] - 0s 33us/step - loss: 0.0932 - acc: 0.9802 - val_loss: 0.1271 - val_acc: 0.9649\n",
      "Epoch 11/20\n",
      "455/455 [==============================] - 0s 37us/step - loss: 0.0857 - acc: 0.9802 - val_loss: 0.1226 - val_acc: 0.9649\n",
      "Epoch 12/20\n",
      "455/455 [==============================] - 0s 33us/step - loss: 0.0799 - acc: 0.9846 - val_loss: 0.1205 - val_acc: 0.9649\n",
      "Epoch 13/20\n",
      "455/455 [==============================] - 0s 33us/step - loss: 0.0757 - acc: 0.9868 - val_loss: 0.1181 - val_acc: 0.9649\n",
      "Epoch 14/20\n",
      "455/455 [==============================] - 0s 35us/step - loss: 0.0715 - acc: 0.9868 - val_loss: 0.1161 - val_acc: 0.9649\n",
      "Epoch 15/20\n",
      "455/455 [==============================] - 0s 35us/step - loss: 0.0679 - acc: 0.9868 - val_loss: 0.1148 - val_acc: 0.9649\n",
      "Epoch 16/20\n",
      "455/455 [==============================] - 0s 35us/step - loss: 0.0649 - acc: 0.9868 - val_loss: 0.1135 - val_acc: 0.9649\n",
      "Epoch 17/20\n",
      "455/455 [==============================] - 0s 35us/step - loss: 0.0637 - acc: 0.9868 - val_loss: 0.1123 - val_acc: 0.9649\n",
      "Epoch 18/20\n",
      "455/455 [==============================] - 0s 37us/step - loss: 0.0606 - acc: 0.9890 - val_loss: 0.1125 - val_acc: 0.9649\n",
      "Epoch 19/20\n",
      "455/455 [==============================] - 0s 34us/step - loss: 0.0584 - acc: 0.9890 - val_loss: 0.1124 - val_acc: 0.9649\n",
      "Epoch 20/20\n",
      "455/455 [==============================] - 0s 31us/step - loss: 0.0563 - acc: 0.9890 - val_loss: 0.1135 - val_acc: 0.9649\n"
     ]
    },
    {
     "data": {
      "text/plain": [
       "<keras.callbacks.History at 0x240e6f5bb38>"
      ]
     },
     "execution_count": 6,
     "metadata": {},
     "output_type": "execute_result"
    }
   ],
   "source": [
    "model.fit(x_train,y_train,epochs=20,batch_size=50,validation_data=[x_test,y_test])"
   ]
  },
  {
   "cell_type": "code",
   "execution_count": 8,
   "metadata": {},
   "outputs": [
    {
     "name": "stdout",
     "output_type": "stream",
     "text": [
      "114/114 [==============================] - 0s 26us/step\n"
     ]
    },
    {
     "data": {
      "text/plain": [
       "[0.11348279630928709, 0.9649122817474499]"
      ]
     },
     "execution_count": 8,
     "metadata": {},
     "output_type": "execute_result"
    }
   ],
   "source": [
    "predictions = model.predict(x_test)\n",
    "score = model.evaluate(x_test,y_test)\n",
    "score"
   ]
  },
  {
   "cell_type": "code",
   "execution_count": null,
   "metadata": {},
   "outputs": [],
   "source": []
  },
  {
   "cell_type": "code",
   "execution_count": null,
   "metadata": {},
   "outputs": [],
   "source": []
  }
 ],
 "metadata": {
  "kernelspec": {
   "display_name": "Python 3",
   "language": "python",
   "name": "python3"
  },
  "language_info": {
   "codemirror_mode": {
    "name": "ipython",
    "version": 3
   },
   "file_extension": ".py",
   "mimetype": "text/x-python",
   "name": "python",
   "nbconvert_exporter": "python",
   "pygments_lexer": "ipython3",
   "version": "3.7.3"
  }
 },
 "nbformat": 4,
 "nbformat_minor": 2
}
