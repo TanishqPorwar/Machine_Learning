{
 "cells": [
  {
   "cell_type": "code",
   "execution_count": 1,
   "metadata": {},
   "outputs": [],
   "source": [
    "import numpy as np"
   ]
  },
  {
   "cell_type": "code",
   "execution_count": 6,
   "metadata": {},
   "outputs": [],
   "source": [
    "def fit(x_train,y_train):\n",
    "    result={}\n",
    "    class_label=set(y_train)\n",
    "    for label in class_label:\n",
    "        result[label]={}\n",
    "        result['total_data']=len(y_train)\n",
    "        labeled_rows = (y_train == current_class)   # will give an array like :[true,false,true,true]\n",
    "        x_train_current = x_train[labeled_rows]     # selects all the rows with true i.e class=label\n",
    "        y_train_current = y_train[labeled_rows]\n",
    "        n_features = x_train.shape[1]\n",
    "        result[label]['total_count'] = len(y_train_current)\n",
    "        for j in range(n_features):\n",
    "            result[label][j] = {}\n",
    "            all_values = set(x_train[:,j])\n",
    "            for val in all_values:\n",
    "                result[label][j][val] = (x_train_current[:, j] == current_value).sum()\n",
    "    return result\n",
    "        "
   ]
  },
  {
   "cell_type": "code",
   "execution_count": null,
   "metadata": {},
   "outputs": [],
   "source": []
  }
 ],
 "metadata": {
  "kernelspec": {
   "display_name": "Python 3",
   "language": "python",
   "name": "python3"
  },
  "language_info": {
   "codemirror_mode": {
    "name": "ipython",
    "version": 3
   },
   "file_extension": ".py",
   "mimetype": "text/x-python",
   "name": "python",
   "nbconvert_exporter": "python",
   "pygments_lexer": "ipython3",
   "version": "3.7.3"
  }
 },
 "nbformat": 4,
 "nbformat_minor": 2
}
